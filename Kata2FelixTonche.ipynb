{
 "cells": [
  {
   "cell_type": "markdown",
   "metadata": {},
   "source": [
    "## Kata Módulo 2\n",
    "## Ejercicio: crear y ejecutar un notebook\n",
    "\n",
    "> Felix Fernanndo Tonche Valadez\n",
    "\n",
    "Kata correspondiente al módulo 2"
   ]
  },
  {
   "cell_type": "markdown",
   "metadata": {},
   "source": [
    "## Objetivo: Crear un paquete\n",
    "Creación de un entorno Virtual Python\n",
    "\n",
    "Desde terminal del dispositivo: \n",
    "\n",
    "![Alt text](images/env.png \"creación de entorno virtual python\")\n",
    "\n",
    "### Activación del entorno virtual\n",
    "![Alt text](images/env_activate.png \"activación del entorno virtual python\")\n",
    "\n",
    "### Resultado en explorador de archivos:>\n",
    "![Alt text](images/env_path.png \"creación de entorno virtual python\")"
   ]
  },
  {
   "cell_type": "markdown",
   "metadata": {},
   "source": [
    "### Instalar una biblioteca\n",
    "Dentro del entorno virtual se hace la instalacipon de bibliotecas existiendo solo en el entorno virtual creado previamente.\n",
    "\n",
    "- comando __pip freeze__ :para ver las bibliotecas instaladas.\n",
    "\n",
    "![Alt text](images/env_1.png \"ver bibliotecas instaladas\")\n",
    "\n",
    "- instalar biblioteca __pip install__:\n",
    "\n",
    "![Alt text](images/env_2.png \"instalar biblioteca\")\n",
    "\n",
    "- comando __pip freeze__ para ver biblioteca previamente instalada:\n",
    "\n",
    "![Alt text](images/env_3.png \"ver bibliotecas instaladas.\")\n",
    "\n",
    "- desactivar entorno virtual, comando __deactivate__:\n",
    "\n",
    "![Alt text](images/env_deactivate.png \"desactivar entorno virtual python\")\n",
    "\n",
    " \n"
   ]
  },
  {
   "cell_type": "markdown",
   "metadata": {},
   "source": []
  }
 ],
 "metadata": {
  "interpreter": {
   "hash": "02bb7bdefb921af589e838677cacd56f08e3ba1dcca698cd19f1987868520e76"
  },
  "kernelspec": {
   "display_name": "Python 3.9.6 64-bit",
   "language": "python",
   "name": "python3"
  },
  "language_info": {
   "codemirror_mode": {
    "name": "ipython",
    "version": 3
   },
   "file_extension": ".py",
   "mimetype": "text/x-python",
   "name": "python",
   "nbconvert_exporter": "python",
   "pygments_lexer": "ipython3",
   "version": "3.9.6"
  },
  "orig_nbformat": 4
 },
 "nbformat": 4,
 "nbformat_minor": 2
}
