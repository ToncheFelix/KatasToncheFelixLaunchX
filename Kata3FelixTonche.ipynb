{
 "cells": [
  {
   "cell_type": "markdown",
   "metadata": {},
   "source": [
    "## Kata Módulo 3\n",
    "## Ejercicio: \n",
    "\n",
    "> Felix Fernanndo Tonche Valadez\n",
    "\n",
    "Kata correspondiente al módulo 3"
   ]
  }
 ],
 "metadata": {
  "language_info": {
   "name": "python"
  },
  "orig_nbformat": 4
 },
 "nbformat": 4,
 "nbformat_minor": 2
}
