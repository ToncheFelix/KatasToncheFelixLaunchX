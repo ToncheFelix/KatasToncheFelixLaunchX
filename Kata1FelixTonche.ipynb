{
 "cells": [
  {
   "cell_type": "markdown",
   "metadata": {},
   "source": [
    "## Kata1 Felix Tonche\n",
    "Kata correspondiente al módulo 1"
   ]
  },
  {
   "cell_type": "markdown",
   "metadata": {},
   "source": [
    "### Primer programa\n",
    "Formato de impresión de la fecha actual con el módulo __datetime__ con la función _date_."
   ]
  },
  {
   "cell_type": "code",
   "execution_count": 5,
   "metadata": {},
   "outputs": [
    {
     "name": "stdout",
     "output_type": "stream",
     "text": [
      "Today's date is: 2022-02-16\n"
     ]
    }
   ],
   "source": [
    "from datetime import date\n",
    "\n",
    "print(f'Today\\'s date is: {date.today()}' )"
   ]
  },
  {
   "cell_type": "markdown",
   "metadata": {},
   "source": [
    "### Convertidor de unidades\n",
    "Conversor entre parsecs y años luz"
   ]
  },
  {
   "cell_type": "code",
   "execution_count": 8,
   "metadata": {},
   "outputs": [
    {
     "name": "stdout",
     "output_type": "stream",
     "text": [
      "11 parsec, is 35.877159999999996 lightyears.\n"
     ]
    }
   ],
   "source": [
    "parsec = 11\n",
    "lightyears = 3.26156 * parsec\n",
    "print(f'{str(parsec)} parsec, is {str(lightyears)} lightyears.')"
   ]
  }
 ],
 "metadata": {
  "interpreter": {
   "hash": "02bb7bdefb921af589e838677cacd56f08e3ba1dcca698cd19f1987868520e76"
  },
  "kernelspec": {
   "display_name": "Python 3.9.6 64-bit",
   "language": "python",
   "name": "python3"
  },
  "language_info": {
   "codemirror_mode": {
    "name": "ipython",
    "version": 3
   },
   "file_extension": ".py",
   "mimetype": "text/x-python",
   "name": "python",
   "nbconvert_exporter": "python",
   "pygments_lexer": "ipython3",
   "version": "3.9.6"
  },
  "orig_nbformat": 4
 },
 "nbformat": 4,
 "nbformat_minor": 2
}
